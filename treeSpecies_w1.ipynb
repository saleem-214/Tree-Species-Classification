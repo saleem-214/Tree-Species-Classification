{
  "nbformat": 4,
  "nbformat_minor": 0,
  "metadata": {
    "colab": {
      "provenance": [],
      "toc_visible": true
    },
    "kernelspec": {
      "name": "python3",
      "display_name": "Python 3"
    },
    "language_info": {
      "name": "python"
    }
  },
  "cells": [
    {
      "cell_type": "code",
      "execution_count": 1,
      "metadata": {
        "colab": {
          "base_uri": "https://localhost:8080/"
        },
        "id": "Jx9aamsrLWiz",
        "outputId": "28f3c11a-fc75-4f59-a602-79d4c77e58fb"
      },
      "outputs": [
        {
          "output_type": "stream",
          "name": "stdout",
          "text": [
            "Downloading from https://www.kaggle.com/api/v1/datasets/download/viditgandhi/tree-species-identification-dataset?dataset_version_number=1...\n"
          ]
        },
        {
          "output_type": "stream",
          "name": "stderr",
          "text": [
            "100%|██████████| 72.8M/72.8M [00:03<00:00, 24.2MB/s]"
          ]
        },
        {
          "output_type": "stream",
          "name": "stdout",
          "text": [
            "Extracting files...\n"
          ]
        },
        {
          "output_type": "stream",
          "name": "stderr",
          "text": [
            "\n"
          ]
        },
        {
          "output_type": "stream",
          "name": "stdout",
          "text": [
            "Path to dataset files: /root/.cache/kagglehub/datasets/viditgandhi/tree-species-identification-dataset/versions/1\n"
          ]
        }
      ],
      "source": [
        "import kagglehub\n",
        "\n",
        "# Download latest version\n",
        "path = kagglehub.dataset_download(\"viditgandhi/tree-species-identification-dataset\")\n",
        "\n",
        "print(\"Path to dataset files:\", path)\n"
      ]
    },
    {
      "cell_type": "code",
      "source": [
        "\n",
        "\n",
        "import shutil\n",
        "\n",
        "# Define the source path (where the dataset is downloaded)\n",
        "source_path = '/root/.cache/kagglehub/datasets/viditgandhi/tree-species-identification-dataset/versions/1'\n",
        "\n",
        "# Define the destination path (replace with your desired path)\n",
        "destination_path = '/content/tree-species-dataset'\n",
        "\n",
        "# Use shutil.move() to move the directory\n",
        "try:\n",
        "    shutil.move(source_path, destination_path)\n",
        "    print(f\"Dataset moved successfully from {source_path} to {destination_path}\")\n",
        "except shutil.Error as e:\n",
        "    print(f\"Error moving dataset: {e}\")\n",
        "except FileNotFoundError:\n",
        "    print(f\"Source directory not found: {source_path}\")"
      ],
      "metadata": {
        "colab": {
          "base_uri": "https://localhost:8080/"
        },
        "id": "tL966RgrLo4G",
        "outputId": "506c40e2-0bd8-4ecf-d83a-fc596859b182"
      },
      "execution_count": 2,
      "outputs": [
        {
          "output_type": "stream",
          "name": "stdout",
          "text": [
            "Dataset moved successfully from /root/.cache/kagglehub/datasets/viditgandhi/tree-species-identification-dataset/versions/1 to /content/tree-species-dataset\n"
          ]
        }
      ]
    }
  ]
}