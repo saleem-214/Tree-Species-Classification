{
  "nbformat": 4,
  "nbformat_minor": 0,
  "metadata": {
    "colab": {
      "provenance": [],
      "authorship_tag": "ABX9TyP9zEQcoTF80bN6/scqQXZ4",
      "include_colab_link": true
    },
    "kernelspec": {
      "name": "python3",
      "display_name": "Python 3"
    },
    "language_info": {
      "name": "python"
    }
  },
  "cells": [
    {
      "cell_type": "markdown",
      "metadata": {
        "id": "view-in-github",
        "colab_type": "text"
      },
      "source": [
        "<a href=\"https://colab.research.google.com/github/syed-roshan-786/Tree_Species_Classification/blob/main/day1.ipynb\" target=\"_parent\"><img src=\"https://colab.research.google.com/assets/colab-badge.svg\" alt=\"Open In Colab\"/></a>"
      ]
    },
    {
      "cell_type": "code",
      "execution_count": null,
      "metadata": {
        "colab": {
          "base_uri": "https://localhost:8080/"
        },
        "id": "R3PSGs-fjLjZ",
        "outputId": "c821ea2d-940d-4313-f5d2-4d167cc4a733"
      },
      "outputs": [
        {
          "output_type": "stream",
          "name": "stdout",
          "text": [
            "Path to dataset files: /kaggle/input/tree-species-identification-dataset\n"
          ]
        }
      ],
      "source": [
        "import kagglehub\n",
        "\n",
        "# Download latest version\n",
        "path = kagglehub.dataset_download(\"viditgandhi/tree-species-identification-dataset\")\n",
        "\n",
        "print(\"Path to dataset files:\", path)"
      ]
    },
    {
      "cell_type": "code",
      "source": [
        "import kagglehub\n",
        "import shutil\n",
        "import os\n",
        "\n",
        "# Step 1: Download the dataset and get the actual path\n",
        "source_path = kagglehub.dataset_download(\"viditgandhi/tree-species-identification-dataset\")\n",
        "print(\"Actual downloaded path:\", source_path)\n",
        "\n",
        "# Step 2: Define the destination\n",
        "destination_path = '/content/tree-species-dataset'\n",
        "\n",
        "# Step 3: Use shutil.copytree instead of move (because source is often read-only or on a different device)\n",
        "try:\n",
        "    if not os.path.exists(destination_path):\n",
        "        shutil.copytree(source_path, destination_path)\n",
        "        print(f\"Dataset copied successfully from {source_path} to {destination_path}\")\n",
        "    else:\n",
        "        print(f\"Destination already exists: {destination_path}\")\n",
        "except Exception as e:\n",
        "    print(f\"Error during copy: {e}\")\n"
      ],
      "metadata": {
        "colab": {
          "base_uri": "https://localhost:8080/"
        },
        "id": "xVJt5vX2jdfw",
        "outputId": "185fd9fd-f9b5-4802-8827-c2a436d68835"
      },
      "execution_count": null,
      "outputs": [
        {
          "output_type": "stream",
          "name": "stdout",
          "text": [
            "Actual downloaded path: /kaggle/input/tree-species-identification-dataset\n",
            "Destination already exists: /content/tree-species-dataset\n"
          ]
        }
      ]
    }
  ]
}